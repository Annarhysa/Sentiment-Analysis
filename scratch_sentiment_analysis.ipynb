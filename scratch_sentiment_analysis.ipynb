{
 "cells": [
  {
   "cell_type": "code",
   "execution_count": 1,
   "metadata": {},
   "outputs": [],
   "source": [
    "import pandas as pd"
   ]
  },
  {
   "cell_type": "code",
   "execution_count": 6,
   "metadata": {},
   "outputs": [
    {
     "data": {
      "text/html": [
       "<div>\n",
       "<style scoped>\n",
       "    .dataframe tbody tr th:only-of-type {\n",
       "        vertical-align: middle;\n",
       "    }\n",
       "\n",
       "    .dataframe tbody tr th {\n",
       "        vertical-align: top;\n",
       "    }\n",
       "\n",
       "    .dataframe thead th {\n",
       "        text-align: right;\n",
       "    }\n",
       "</style>\n",
       "<table border=\"1\" class=\"dataframe\">\n",
       "  <thead>\n",
       "    <tr style=\"text-align: right;\">\n",
       "      <th></th>\n",
       "      <th>Unnamed: 0</th>\n",
       "      <th>review</th>\n",
       "      <th>sentiment</th>\n",
       "      <th>Summary</th>\n",
       "      <th>Tranformer_sentiment</th>\n",
       "    </tr>\n",
       "  </thead>\n",
       "  <tbody>\n",
       "    <tr>\n",
       "      <th>0</th>\n",
       "      <td>0</td>\n",
       "      <td>One of the other reviewers has mentioned that ...</td>\n",
       "      <td>positive</td>\n",
       "      <td>reviewers mentioned watching 1 Oz episode 'll ...</td>\n",
       "      <td>POSITIVE</td>\n",
       "    </tr>\n",
       "    <tr>\n",
       "      <th>1</th>\n",
       "      <td>1</td>\n",
       "      <td>A wonderful little production. The filming tec...</td>\n",
       "      <td>positive</td>\n",
       "      <td>wonderful production .</td>\n",
       "      <td>POSITIVE</td>\n",
       "    </tr>\n",
       "    <tr>\n",
       "      <th>2</th>\n",
       "      <td>2</td>\n",
       "      <td>I thought this was a wonderful way to spend ti...</td>\n",
       "      <td>positive</td>\n",
       "      <td>thought wonderful spend time hot summer weeken...</td>\n",
       "      <td>POSITIVE</td>\n",
       "    </tr>\n",
       "    <tr>\n",
       "      <th>3</th>\n",
       "      <td>3</td>\n",
       "      <td>Basically there's a family where a little boy ...</td>\n",
       "      <td>negative</td>\n",
       "      <td>Basically 's family boy ( Jake ) thinks 's zom...</td>\n",
       "      <td>NEGATIVE</td>\n",
       "    </tr>\n",
       "    <tr>\n",
       "      <th>4</th>\n",
       "      <td>4</td>\n",
       "      <td>Petter Mattei's \"Love in the Time of Money\" is...</td>\n",
       "      <td>positive</td>\n",
       "      <td>Petter Mattei 's `` Love Time Money '' visuall...</td>\n",
       "      <td>POSITIVE</td>\n",
       "    </tr>\n",
       "  </tbody>\n",
       "</table>\n",
       "</div>"
      ],
      "text/plain": [
       "   Unnamed: 0                                             review sentiment  \\\n",
       "0           0  One of the other reviewers has mentioned that ...  positive   \n",
       "1           1  A wonderful little production. The filming tec...  positive   \n",
       "2           2  I thought this was a wonderful way to spend ti...  positive   \n",
       "3           3  Basically there's a family where a little boy ...  negative   \n",
       "4           4  Petter Mattei's \"Love in the Time of Money\" is...  positive   \n",
       "\n",
       "                                             Summary Tranformer_sentiment  \n",
       "0  reviewers mentioned watching 1 Oz episode 'll ...             POSITIVE  \n",
       "1                             wonderful production .             POSITIVE  \n",
       "2  thought wonderful spend time hot summer weeken...             POSITIVE  \n",
       "3  Basically 's family boy ( Jake ) thinks 's zom...             NEGATIVE  \n",
       "4  Petter Mattei 's `` Love Time Money '' visuall...             POSITIVE  "
      ]
     },
     "execution_count": 6,
     "metadata": {},
     "output_type": "execute_result"
    }
   ],
   "source": [
    "data = pd.read_csv(\"./Data/csv_files/transformed.csv\")\n",
    "data.head()"
   ]
  },
  {
   "cell_type": "code",
   "execution_count": 7,
   "metadata": {},
   "outputs": [],
   "source": [
    "#function to convert txt files to list\n",
    "def converting_to_list(path):\n",
    "    final_list = []\n",
    "    # opening the file in read mode\n",
    "    my_file = open(path, \"r\")\n",
    "\n",
    "    # reading the file\n",
    "    data = my_file.read()\n",
    "\n",
    "    data_into_list = data.split(\"\\n\")\n",
    "    for i in data_into_list:\n",
    "        i = i.lower()\n",
    "        final_list.append(i)\n",
    "\n",
    "    return final_list\n",
    "    my_file.close()"
   ]
  },
  {
   "cell_type": "code",
   "execution_count": 8,
   "metadata": {},
   "outputs": [],
   "source": [
    "#function to find sentiment\n",
    "def positive(words_list,text):\n",
    "    if any(map(lambda v: v in words_list, text)):\n",
    "        answer = \"Positive\"\n",
    "    else:\n",
    "        answer = \"Negative\"\n",
    "    return answer"
   ]
  },
  {
   "cell_type": "code",
   "execution_count": 14,
   "metadata": {},
   "outputs": [],
   "source": [
    "#analysis function\n",
    "def analyze_sentiment(text):\n",
    "    text = text.lower()\n",
    "    text = text.split()\n",
    "\n",
    "    path = \"./Data/txt_files/positive_words.txt\"\n",
    "    words_list = converting_to_list(path)\n",
    "\n",
    "    sentiment = positive(words_list,text)\n",
    "\n",
    "    return sentiment"
   ]
  },
  {
   "cell_type": "code",
   "execution_count": 15,
   "metadata": {},
   "outputs": [],
   "source": [
    "#converting summarized data to list\n",
    "data_list = []\n",
    "\n",
    "for i in range(len(data)):\n",
    "    data_list.append(data.loc[i,\"Summary\"])"
   ]
  },
  {
   "cell_type": "code",
   "execution_count": 39,
   "metadata": {},
   "outputs": [],
   "source": [
    "#finding sentiments for reviews\n",
    "sentiment_movie = []\n",
    "for i in data_list:\n",
    "    sentiment_movie.append(analyze_sentiment(i))\n",
    "\n",
    "data[\"Basic Sentiment\"] = pd.Series(sentiment_movie)"
   ]
  },
  {
   "cell_type": "code",
   "execution_count": 41,
   "metadata": {},
   "outputs": [
    {
     "data": {
      "text/html": [
       "<div>\n",
       "<style scoped>\n",
       "    .dataframe tbody tr th:only-of-type {\n",
       "        vertical-align: middle;\n",
       "    }\n",
       "\n",
       "    .dataframe tbody tr th {\n",
       "        vertical-align: top;\n",
       "    }\n",
       "\n",
       "    .dataframe thead th {\n",
       "        text-align: right;\n",
       "    }\n",
       "</style>\n",
       "<table border=\"1\" class=\"dataframe\">\n",
       "  <thead>\n",
       "    <tr style=\"text-align: right;\">\n",
       "      <th></th>\n",
       "      <th>review</th>\n",
       "      <th>sentiment</th>\n",
       "      <th>Summary</th>\n",
       "      <th>Tranformer_sentiment</th>\n",
       "      <th>Basic Sentiment</th>\n",
       "    </tr>\n",
       "  </thead>\n",
       "  <tbody>\n",
       "    <tr>\n",
       "      <th>0</th>\n",
       "      <td>One of the other reviewers has mentioned that ...</td>\n",
       "      <td>positive</td>\n",
       "      <td>reviewers mentioned watching 1 Oz episode 'll ...</td>\n",
       "      <td>POSITIVE</td>\n",
       "      <td>Negative</td>\n",
       "    </tr>\n",
       "    <tr>\n",
       "      <th>1</th>\n",
       "      <td>A wonderful little production. The filming tec...</td>\n",
       "      <td>positive</td>\n",
       "      <td>wonderful production .</td>\n",
       "      <td>POSITIVE</td>\n",
       "      <td>Positive</td>\n",
       "    </tr>\n",
       "    <tr>\n",
       "      <th>2</th>\n",
       "      <td>I thought this was a wonderful way to spend ti...</td>\n",
       "      <td>positive</td>\n",
       "      <td>thought wonderful spend time hot summer weeken...</td>\n",
       "      <td>POSITIVE</td>\n",
       "      <td>Positive</td>\n",
       "    </tr>\n",
       "    <tr>\n",
       "      <th>3</th>\n",
       "      <td>Basically there's a family where a little boy ...</td>\n",
       "      <td>negative</td>\n",
       "      <td>Basically 's family boy ( Jake ) thinks 's zom...</td>\n",
       "      <td>NEGATIVE</td>\n",
       "      <td>Negative</td>\n",
       "    </tr>\n",
       "    <tr>\n",
       "      <th>4</th>\n",
       "      <td>Petter Mattei's \"Love in the Time of Money\" is...</td>\n",
       "      <td>positive</td>\n",
       "      <td>Petter Mattei 's `` Love Time Money '' visuall...</td>\n",
       "      <td>POSITIVE</td>\n",
       "      <td>Positive</td>\n",
       "    </tr>\n",
       "  </tbody>\n",
       "</table>\n",
       "</div>"
      ],
      "text/plain": [
       "                                              review sentiment  \\\n",
       "0  One of the other reviewers has mentioned that ...  positive   \n",
       "1  A wonderful little production. The filming tec...  positive   \n",
       "2  I thought this was a wonderful way to spend ti...  positive   \n",
       "3  Basically there's a family where a little boy ...  negative   \n",
       "4  Petter Mattei's \"Love in the Time of Money\" is...  positive   \n",
       "\n",
       "                                             Summary Tranformer_sentiment  \\\n",
       "0  reviewers mentioned watching 1 Oz episode 'll ...             POSITIVE   \n",
       "1                             wonderful production .             POSITIVE   \n",
       "2  thought wonderful spend time hot summer weeken...             POSITIVE   \n",
       "3  Basically 's family boy ( Jake ) thinks 's zom...             NEGATIVE   \n",
       "4  Petter Mattei 's `` Love Time Money '' visuall...             POSITIVE   \n",
       "\n",
       "  Basic Sentiment  \n",
       "0        Negative  \n",
       "1        Positive  \n",
       "2        Positive  \n",
       "3        Negative  \n",
       "4        Positive  "
      ]
     },
     "execution_count": 41,
     "metadata": {},
     "output_type": "execute_result"
    }
   ],
   "source": [
    "data.head()"
   ]
  },
  {
   "cell_type": "code",
   "execution_count": 29,
   "metadata": {},
   "outputs": [],
   "source": [
    "#calculating the total count\n",
    "# Calculate the percentage of positive, negative\n",
    "sentiment_counts = data['sentiment'].value_counts(normalize= True)*100\n",
    "sentiment_counts1 = data[\"Basic Sentiment\"].value_counts(normalize=True) * 100\n",
    "sentiment_counts2 = data['Tranformer_sentiment'].value_counts(normalize = True)*100"
   ]
  },
  {
   "cell_type": "code",
   "execution_count": 32,
   "metadata": {},
   "outputs": [
    {
     "name": "stdout",
     "output_type": "stream",
     "text": [
      "Original Y lable \n",
      " negative    50.675\n",
      "positive    49.325\n",
      "Name: sentiment, dtype: float64\n",
      "Using scratch Method \n",
      " Negative    84.275\n",
      "Positive    15.725\n",
      "Name: Basic Sentiment, dtype: float64\n",
      "Using transformer Method \n",
      " POSITIVE    53.6\n",
      "NEGATIVE    46.4\n",
      "Name: Tranformer_sentiment, dtype: float64\n"
     ]
    }
   ],
   "source": [
    "print(\"Original Y lable \\n\",sentiment_counts)\n",
    "print(\"Using scratch Method \\n\",sentiment_counts1)\n",
    "print(\"Using transformer Method \\n\",sentiment_counts2)"
   ]
  },
  {
   "cell_type": "code",
   "execution_count": 33,
   "metadata": {},
   "outputs": [],
   "source": [
    "import matplotlib.pyplot as plt\n",
    "import numpy\n",
    "from sklearn import metrics"
   ]
  },
  {
   "cell_type": "code",
   "execution_count": null,
   "metadata": {},
   "outputs": [],
   "source": []
  }
 ],
 "metadata": {
  "kernelspec": {
   "display_name": "Python 3",
   "language": "python",
   "name": "python3"
  },
  "language_info": {
   "codemirror_mode": {
    "name": "ipython",
    "version": 3
   },
   "file_extension": ".py",
   "mimetype": "text/x-python",
   "name": "python",
   "nbconvert_exporter": "python",
   "pygments_lexer": "ipython3",
   "version": "3.11.4"
  }
 },
 "nbformat": 4,
 "nbformat_minor": 2
}
